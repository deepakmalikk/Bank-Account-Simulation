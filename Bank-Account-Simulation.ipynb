{
 "cells": [
  {
   "cell_type": "code",
   "execution_count": null,
   "metadata": {},
   "outputs": [],
   "source": [
    "class Account():\n",
    "     \n",
    "     def __init__(self, owner, balance=0):\n",
    "         self.owner =owner\n",
    "         self.balance= balance\n",
    "          \n",
    "         \n",
    "     def deposit(self,deposit_amount):\n",
    "        self.balance += deposit_amount\n",
    "        return \"Deposit Accepted\"\n",
    "\n",
    "    \n",
    "     def withdraw(self, withdraw_amount):\n",
    "        \n",
    "         if withdraw_amount > self.balance:\n",
    "             print(\"Funds Unavailable!\")\n",
    "         else:\n",
    "             self.balance -= withdraw_amount\n",
    "             return \"Withdrawal Accepted\"\n",
    "             \n",
    "         \n",
    "         \n",
    "        "
   ]
  },
  {
   "cell_type": "code",
   "execution_count": null,
   "metadata": {},
   "outputs": [],
   "source": []
  }
 ],
 "metadata": {
  "language_info": {
   "name": "python"
  }
 },
 "nbformat": 4,
 "nbformat_minor": 2
}
