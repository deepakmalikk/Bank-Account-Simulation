{
 "cells": [
  {
   "cell_type": "code",
   "execution_count": null,
   "metadata": {},
   "outputs": [],
   "source": [
    "class Account():\n",
    "     \n",
    "     def __init__(self, owner, balance=0):\n",
    "         self.owner =owner\n",
    "         self.balance= balance\n",
    "          \n",
    "         \n",
    "     def deposit(self,deposit_amount):\n",
    "        self.balance += deposit_amount\n",
    "        print(f\"Added {deposit_amount} to the balance\")\n",
    "\n",
    "    \n",
    "     def withdraw(self, withdraw_amount):\n",
    "        \n",
    "        if self.balance >= withdraw_amount:\n",
    "             print(\"Withdrawal Accepted\")\n",
    "        else:\n",
    "             self.balance -= withdraw_amount\n",
    "             print(\"Sorry!! Not enough funds\")\n",
    "\n",
    "    #Special methods\n",
    "     def __str__(self):\n",
    "        return f\"Owner: {self.owner}\\nBalance: {self.balance}\""
   ]
  },
  {
   "cell_type": "code",
   "execution_count": null,
   "metadata": {},
   "outputs": [],
   "source": []
  }
 ],
 "metadata": {
  "language_info": {
   "name": "python"
  }
 },
 "nbformat": 4,
 "nbformat_minor": 2
}
